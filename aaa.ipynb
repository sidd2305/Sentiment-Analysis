{
 "cells": [
  {
   "cell_type": "code",
   "execution_count": 1,
   "metadata": {},
   "outputs": [
    {
     "name": "stderr",
     "output_type": "stream",
     "text": [
      "[nltk_data] Downloading package punkt to\n",
      "[nltk_data]     C:\\Users\\Yashwanth\\AppData\\Roaming\\nltk_data...\n",
      "[nltk_data]   Package punkt is already up-to-date!\n",
      "[nltk_data] Downloading package stopwords to\n",
      "[nltk_data]     C:\\Users\\Yashwanth\\AppData\\Roaming\\nltk_data...\n",
      "[nltk_data]   Package stopwords is already up-to-date!\n",
      "[nltk_data] Downloading package vader_lexicon to\n",
      "[nltk_data]     C:\\Users\\Yashwanth\\AppData\\Roaming\\nltk_data...\n",
      "[nltk_data]   Package vader_lexicon is already up-to-date!\n"
     ]
    },
    {
     "data": {
      "text/plain": [
       "True"
      ]
     },
     "execution_count": 1,
     "metadata": {},
     "output_type": "execute_result"
    }
   ],
   "source": [
    "import nltk\n",
    "from nltk.sentiment import SentimentIntensityAnalyzer\n",
    "from nltk.tokenize import word_tokenize\n",
    "from nltk.corpus import stopwords\n",
    "import matplotlib.pyplot as plt\n",
    "\n",
    "nltk.download('punkt')\n",
    "nltk.download('stopwords')\n",
    "nltk.download('vader_lexicon')\n",
    "\n",
    "\n"
   ]
  },
  {
   "cell_type": "code",
   "execution_count": 2,
   "metadata": {},
   "outputs": [
    {
     "name": "stdout",
     "output_type": "stream",
     "text": [
      "[0] ['2024-01-24']\n"
     ]
    },
    {
     "data": {
      "image/png": "[encoded data removed]",
      "text/plain": [
       "<Figure size 432x288 with 1 Axes>"
      ]
     },
     "metadata": {
      "needs_background": "light"
     },
     "output_type": "display_data"
    }
   ],
   "source": [
    "def get_sentiment(text):\n",
    "    sid = SentimentIntensityAnalyzer()\n",
    "    sentiment_score = sid.polarity_scores(text)['compound']\n",
    "    return sentiment_score\n",
    "\n",
    "def categorize_emotion(sentiment_score):\n",
    "    if sentiment_score >= 0.5:\n",
    "        return \"Very Happy\"\n",
    "    elif 0.2 <= sentiment_score < 0.5:\n",
    "        return \"Happy\"\n",
    "    elif -0.2 <= sentiment_score < 0.2:\n",
    "        return \"Neutral\"\n",
    "    elif -0.5 <= sentiment_score < -0.2:\n",
    "        return \"Sad\"\n",
    "    elif sentiment_score < -0.5:\n",
    "        return \"Very Sad\"\n",
    "    else:\n",
    "        return \"Mixed Emotions\"\n",
    "\n",
    "def main():\n",
    "    # Initialize empty lists to store dates and sentiment scores\n",
    "    dates = []\n",
    "    sentiment_scores = []\n",
    "\n",
    "    while True:\n",
    "        date_input = input(\"Enter the date (YYYY-MM-DD) of your journal entry (or type 'exit' to finish): \")\n",
    "\n",
    "        if date_input.lower() == 'exit':\n",
    "            break\n",
    "\n",
    "        # Check if the date is in the correct format\n",
    "        if len(date_input) != 10 or date_input[4] != '-' or date_input[7] != '-':\n",
    "            print(\"Invalid date format. Please enter the date in the format YYYY-MM-DD.\")\n",
    "            continue\n",
    "\n",
    "        # Allow the user to input the journal entry\n",
    "        text = input(\"Enter your journal entry for that date: \")\n",
    "\n",
    "        # Tokenize and remove stopwords\n",
    "        words = word_tokenize(text)\n",
    "        filtered_words = [word.lower() for word in words if word.isalpha() and word.lower() not in stopwords.words('english')]\n",
    "\n",
    "        # Calculate sentiment score\n",
    "        processed_text = ' '.join(filtered_words)\n",
    "        sentiment_score = get_sentiment(processed_text)\n",
    "\n",
    "        # Append date and sentiment score to the lists\n",
    "        dates.append(date_input)\n",
    "        sentiment_scores.append(sentiment_score)\n",
    "\n",
    "    # Map sentiment scores to emotion categories\n",
    "    emotions = [categorize_emotion(score) for score in sentiment_scores]\n",
    "\n",
    "    # Create a dictionary to map emotions to y-axis values\n",
    "    emotion_ticks = {\n",
    "        \"Very Happy\": 4,\n",
    "        \"Happy\": 3,\n",
    "        \"Neutral\": 2,\n",
    "        \"Sad\": 1,\n",
    "        \"Very Sad\": 0\n",
    "    }\n",
    "\n",
    "    # Map emotion categories to y-axis values\n",
    "    y_values = [emotion_ticks[emotion] for emotion in emotions]\n",
    "    print(y_values,dates)\n",
    "    # Plot sentiment scores over dates\n",
    "    plt.plot(dates, y_values, marker='o', linestyle='-')\n",
    "    plt.title('Sentiment Scores over Dates')\n",
    "    plt.xlabel('Date')\n",
    "    plt.ylabel('Sentiment')\n",
    "    plt.yticks(list(emotion_ticks.values()), list(emotion_ticks.keys()))  # Set y-axis ticks\n",
    "    plt.xticks(rotation=45)  # Rotate x-axis labels for better visibility\n",
    "    plt.grid(True)\n",
    "    plt.show()\n",
    "\n",
    "if __name__ == \"__main__\":\n",
    "    main()"
   ]
  }
 ],
 "metadata": {
  "kernelspec": {
   "display_name": "Python 3",
   "language": "python",
   "name": "python3"
  },
  "language_info": {
   "codemirror_mode": {
    "name": "ipython",
    "version": 3
   },
   "file_extension": ".py",
   "mimetype": "text/x-python",
   "name": "python",
   "nbconvert_exporter": "python",
   "pygments_lexer": "ipython3",
   "version": "3.10.2"
  }
 },
 "nbformat": 4,
 "nbformat_minor": 2
}
